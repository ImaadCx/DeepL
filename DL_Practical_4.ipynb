{
  "nbformat": 4,
  "nbformat_minor": 0,
  "metadata": {
    "colab": {
      "provenance": [],
      "gpuType": "T4"
    },
    "kernelspec": {
      "name": "python3",
      "display_name": "Python 3"
    },
    "language_info": {
      "name": "python"
    },
    "accelerator": "GPU"
  },
  "cells": [
    {
      "cell_type": "code",
      "execution_count": null,
      "metadata": {
        "id": "C4aimQ0Hqv0N"
      },
      "outputs": [],
      "source": [
        "import keras\n",
        "from keras import layers\n",
        "from keras.datasets import mnist\n",
        "import numpy as np\n",
        "import matplotlib.pyplot as plt"
      ]
    },
    {
      "cell_type": "code",
      "source": [
        "encoding_dim = 32\n",
        "input_img = keras.Input(shape=(784,))\n",
        "encoded = layers.Dense(encoding_dim, activation = 'relu')(input_img)\n",
        "decoded = layers.Dense(784, activation = 'sigmoid')(encoded)\n",
        "autoencoder = keras.Model(input_img, decoded)\n",
        "encoder = keras.Model(input_img, encoded)\n",
        "encoded_input = keras.Input(shape=(encoding_dim,))\n",
        "decoder_layer = autoencoder.layers[-1]\n",
        "decoder = keras.Model(encoded_input, decoder_layer(encoded_input))\n",
        "autoencoder.compile(optimizer = 'adam', loss = 'binary_crossentropy')"
      ],
      "metadata": {
        "id": "Obmn4jpvrJmP"
      },
      "execution_count": null,
      "outputs": []
    },
    {
      "cell_type": "code",
      "source": [
        "(x_train, _), (x_test, _) =mnist.load_data()\n",
        "x_train= x_train.astype('float32') / 255.\n",
        "x_test = x_test.astype('float32') / 255.\n",
        "x_train = x_train.reshape((len(x_train), np.prod(x_train.shape[1:])))\n",
        "x_test = x_test.reshape((len(x_test), np.prod(x_test.shape[1:])))\n",
        "print(x_train.shape)\n",
        "print(x_test.shape)"
      ],
      "metadata": {
        "colab": {
          "base_uri": "https://localhost:8080/"
        },
        "id": "KoJ3NuWzrMmZ",
        "outputId": "d93ff1ea-9271-44c5-fd78-57aa65a81218"
      },
      "execution_count": null,
      "outputs": [
        {
          "output_type": "stream",
          "name": "stdout",
          "text": [
            "(60000, 784)\n",
            "(10000, 784)\n"
          ]
        }
      ]
    },
    {
      "cell_type": "code",
      "source": [
        "autoencoder.fit(x_train, x_train,\n",
        "                epochs = 13,\n",
        "                batch_size = 256,\n",
        "                shuffle = True, validation_data = (x_test, x_test)\n",
        ")"
      ],
      "metadata": {
        "colab": {
          "base_uri": "https://localhost:8080/"
        },
        "id": "GrpaVfL2tN8E",
        "outputId": "ea91ff5f-21cb-4edc-875f-85c7e82c6ed4"
      },
      "execution_count": null,
      "outputs": [
        {
          "output_type": "stream",
          "name": "stdout",
          "text": [
            "Epoch 1/13\n",
            "235/235 [==============================] - 3s 5ms/step - loss: 0.2771 - val_loss: 0.1892\n",
            "Epoch 2/13\n",
            "235/235 [==============================] - 1s 4ms/step - loss: 0.1704 - val_loss: 0.1538\n",
            "Epoch 3/13\n",
            "235/235 [==============================] - 1s 4ms/step - loss: 0.1446 - val_loss: 0.1342\n",
            "Epoch 4/13\n",
            "235/235 [==============================] - 1s 4ms/step - loss: 0.1293 - val_loss: 0.1222\n",
            "Epoch 5/13\n",
            "235/235 [==============================] - 1s 5ms/step - loss: 0.1191 - val_loss: 0.1134\n",
            "Epoch 6/13\n",
            "235/235 [==============================] - 1s 6ms/step - loss: 0.1116 - val_loss: 0.1072\n",
            "Epoch 7/13\n",
            "235/235 [==============================] - 2s 7ms/step - loss: 0.1062 - val_loss: 0.1026\n",
            "Epoch 8/13\n",
            "235/235 [==============================] - 2s 6ms/step - loss: 0.1024 - val_loss: 0.0995\n",
            "Epoch 9/13\n",
            "235/235 [==============================] - 1s 4ms/step - loss: 0.0996 - val_loss: 0.0971\n",
            "Epoch 10/13\n",
            "235/235 [==============================] - 1s 4ms/step - loss: 0.0975 - val_loss: 0.0955\n",
            "Epoch 11/13\n",
            "235/235 [==============================] - 1s 4ms/step - loss: 0.0961 - val_loss: 0.0945\n",
            "Epoch 12/13\n",
            "235/235 [==============================] - 1s 4ms/step - loss: 0.0953 - val_loss: 0.0937\n",
            "Epoch 13/13\n",
            "235/235 [==============================] - 1s 4ms/step - loss: 0.0947 - val_loss: 0.0932\n"
          ]
        },
        {
          "output_type": "execute_result",
          "data": {
            "text/plain": [
              "<keras.src.callbacks.History at 0x7bb0bd8a1330>"
            ]
          },
          "metadata": {},
          "execution_count": 12
        }
      ]
    },
    {
      "cell_type": "code",
      "source": [
        "encoded_imgs = encoder.predict(x_test)\n",
        "decoded_imgs = decoder.predict(encoded_imgs)"
      ],
      "metadata": {
        "colab": {
          "base_uri": "https://localhost:8080/"
        },
        "id": "32OObwJGuCkA",
        "outputId": "b815cc03-e922-43b1-d720-0426310dc195"
      },
      "execution_count": null,
      "outputs": [
        {
          "output_type": "stream",
          "name": "stdout",
          "text": [
            "313/313 [==============================] - 0s 1ms/step\n",
            "313/313 [==============================] - 0s 1ms/step\n"
          ]
        }
      ]
    },
    {
      "cell_type": "code",
      "source": [
        "n = 10\n",
        "plt.figure(figsize = (20,4))\n",
        "for i in range(n):\n",
        "  ax = plt.subplot(2, n, i+1)\n",
        "  plt.imshow(x_test[i].reshape(28,28))\n",
        "  plt.gray()\n",
        "  ax.get_xaxis().set_visible(False)\n",
        "  ax.get_yaxis().set_visible(False)\n",
        "  ax = plt.subplot(2, n, i+1+n)\n",
        "  plt.imshow(decoded_imgs[i].reshape(28, 28))\n",
        "  plt.gray()\n",
        "  ax.get_xaxis().set_visible(False)\n",
        "  ax.get_yaxis().set_visible(False)\n",
        "plt.show()"
      ],
      "metadata": {
        "colab": {
          "base_uri": "https://localhost:8080/",
          "height": 148
        },
        "id": "8HC4Ppytuekv",
        "outputId": "e706d3ed-3d65-4cb2-c968-921813977cbf"
      },
      "execution_count": null,
      "outputs": [
        {
          "output_type": "display_data",
          "data": {
            "text/plain": [
              "<Figure size 2000x400 with 20 Axes>"
            ],
            "image/png": "[encoded data removed]"
          },
          "metadata": {}
        }
      ]
    },
    {
      "cell_type": "code",
      "source": [],
      "metadata": {
        "id": "jsjVS13TvoVt"
      },
      "execution_count": null,
      "outputs": []
    }
  ]
}