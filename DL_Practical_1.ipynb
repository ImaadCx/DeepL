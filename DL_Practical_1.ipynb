{
  "nbformat": 4,
  "nbformat_minor": 0,
  "metadata": {
    "colab": {
      "provenance": []
    },
    "kernelspec": {
      "name": "python3",
      "display_name": "Python 3"
    },
    "language_info": {
      "name": "python"
    }
  },
  "cells": [
    {
      "cell_type": "code",
      "execution_count": null,
      "metadata": {
        "id": "7jWNiLUbV5gz"
      },
      "outputs": [],
      "source": [
        "import tensorflow as tf\n",
        "from tensorflow.keras.datasets import mnist\n",
        "from tensorflow.keras.layers import Dense, Flatten\n",
        "from tensorflow.keras.models import Sequential"
      ]
    },
    {
      "cell_type": "code",
      "source": [
        "import numpy as np\n",
        "import tensorflow as tf\n",
        "from tensorflow.keras.datasets import mnist\n",
        "from tensorflow.keras.models import Sequential\n",
        "from tensorflow.keras.layers import Dense, Flatten\n",
        "from tensorflow.keras.optimizers import SGD, Adam, RMSprop\n",
        "\n",
        "(x_train, y_train), (x_test, y_test) = mnist.load_data()\n",
        "x_train, x_test = x_train / 255.0, x_test / 255.0\n",
        "\n",
        "epochs = 10\n",
        "batch_size = 32\n",
        "loss_fn = tf.keras.losses.SparseCategoricalCrossentropy()\n",
        "metrics = ['accuracy']\n",
        "optimizers = [\n",
        "    SGD(),\n",
        "    Adam(),\n",
        "    RMSprop()\n",
        "]\n",
        "\n",
        "for optimizer in optimizers:\n",
        "    model = Sequential([\n",
        "        Flatten(input_shape=(28, 28)),\n",
        "        Dense(128, activation='relu'),\n",
        "        Dense(10, activation='softmax')\n",
        "    ])\n",
        "\n",
        "    model.compile(optimizer=optimizer, loss=loss_fn, metrics=metrics)\n",
        "\n",
        "    model.fit(x_train, y_train, epochs=epochs, batch_size=batch_size, verbose=1)\n",
        "\n",
        "    test_loss, test_acc = model.evaluate(x_test, y_test, verbose=2)\n",
        "    print(f'Test Accuracy with {type(optimizer).__name__} optimizer: {test_acc}')\n"
      ],
      "metadata": {
        "id": "iI8evHgnc7t6",
        "colab": {
          "base_uri": "https://localhost:8080/"
        },
        "outputId": "0f2b5ce7-7317-4c5a-b939-9e84ab0f0c85"
      },
      "execution_count": null,
      "outputs": [
        {
          "output_type": "stream",
          "name": "stdout",
          "text": [
            "Epoch 1/10\n",
            "1875/1875 [==============================] - 5s 3ms/step - loss: 0.6507 - accuracy: 0.8371\n",
            "Epoch 2/10\n",
            "1875/1875 [==============================] - 6s 3ms/step - loss: 0.3316 - accuracy: 0.9079\n",
            "Epoch 3/10\n",
            "1875/1875 [==============================] - 5s 3ms/step - loss: 0.2817 - accuracy: 0.9206\n",
            "Epoch 4/10\n",
            "1875/1875 [==============================] - 6s 3ms/step - loss: 0.2515 - accuracy: 0.9292\n",
            "Epoch 5/10\n",
            "1875/1875 [==============================] - 6s 3ms/step - loss: 0.2288 - accuracy: 0.9363\n",
            "Epoch 6/10\n",
            "1875/1875 [==============================] - 5s 3ms/step - loss: 0.2104 - accuracy: 0.9410\n",
            "Epoch 7/10\n",
            "1875/1875 [==============================] - 7s 3ms/step - loss: 0.1951 - accuracy: 0.9457\n",
            "Epoch 8/10\n",
            "1875/1875 [==============================] - 5s 3ms/step - loss: 0.1819 - accuracy: 0.9492\n",
            "Epoch 9/10\n",
            "1875/1875 [==============================] - 7s 4ms/step - loss: 0.1704 - accuracy: 0.9522\n",
            "Epoch 10/10\n",
            "1875/1875 [==============================] - 5s 3ms/step - loss: 0.1603 - accuracy: 0.9552\n",
            "313/313 - 1s - loss: 0.1577 - accuracy: 0.9544 - 582ms/epoch - 2ms/step\n",
            "Test Accuracy with SGD optimizer: 0.9544000029563904\n",
            "Epoch 1/10\n",
            "1875/1875 [==============================] - 9s 4ms/step - loss: 0.2618 - accuracy: 0.9249\n",
            "Epoch 2/10\n",
            "1875/1875 [==============================] - 7s 4ms/step - loss: 0.1110 - accuracy: 0.9676\n",
            "Epoch 3/10\n",
            "1875/1875 [==============================] - 8s 4ms/step - loss: 0.0767 - accuracy: 0.9769\n",
            "Epoch 4/10\n",
            "1875/1875 [==============================] - 7s 4ms/step - loss: 0.0560 - accuracy: 0.9828\n",
            "Epoch 5/10\n",
            "1875/1875 [==============================] - 8s 4ms/step - loss: 0.0442 - accuracy: 0.9863\n",
            "Epoch 6/10\n",
            "1875/1875 [==============================] - 7s 4ms/step - loss: 0.0343 - accuracy: 0.9890\n",
            "Epoch 7/10\n",
            "1875/1875 [==============================] - 8s 4ms/step - loss: 0.0279 - accuracy: 0.9911\n",
            "Epoch 8/10\n",
            "1875/1875 [==============================] - 8s 4ms/step - loss: 0.0227 - accuracy: 0.9932\n",
            "Epoch 9/10\n",
            "1875/1875 [==============================] - 7s 4ms/step - loss: 0.0188 - accuracy: 0.9943\n",
            "Epoch 10/10\n",
            "1875/1875 [==============================] - 8s 4ms/step - loss: 0.0158 - accuracy: 0.9950\n",
            "313/313 - 1s - loss: 0.0825 - accuracy: 0.9786 - 588ms/epoch - 2ms/step\n",
            "Test Accuracy with Adam optimizer: 0.978600025177002\n",
            "Epoch 1/10\n",
            "1875/1875 [==============================] - 10s 5ms/step - loss: 0.2574 - accuracy: 0.9270\n",
            "Epoch 2/10\n",
            "1875/1875 [==============================] - 6s 3ms/step - loss: 0.1214 - accuracy: 0.9644\n",
            "Epoch 3/10\n",
            "1875/1875 [==============================] - 8s 4ms/step - loss: 0.0870 - accuracy: 0.9742\n",
            "Epoch 4/10\n",
            "1875/1875 [==============================] - 6s 3ms/step - loss: 0.0702 - accuracy: 0.9791\n",
            "Epoch 5/10\n",
            "1875/1875 [==============================] - 8s 4ms/step - loss: 0.0580 - accuracy: 0.9835\n",
            "Epoch 6/10\n",
            "1875/1875 [==============================] - 7s 4ms/step - loss: 0.0482 - accuracy: 0.9860\n",
            "Epoch 7/10\n",
            "1875/1875 [==============================] - 8s 4ms/step - loss: 0.0416 - accuracy: 0.9880\n",
            "Epoch 8/10\n",
            "1875/1875 [==============================] - 7s 4ms/step - loss: 0.0364 - accuracy: 0.9895\n",
            "Epoch 9/10\n",
            "1875/1875 [==============================] - 7s 4ms/step - loss: 0.0314 - accuracy: 0.9909\n",
            "Epoch 10/10\n",
            "1875/1875 [==============================] - 7s 4ms/step - loss: 0.0268 - accuracy: 0.9926\n",
            "313/313 - 1s - loss: 0.0887 - accuracy: 0.9762 - 675ms/epoch - 2ms/step\n",
            "Test Accuracy with RMSprop optimizer: 0.9761999845504761\n"
          ]
        }
      ]
    },
    {
      "cell_type": "code",
      "source": [],
      "metadata": {
        "id": "o5SKeCdrzpCx"
      },
      "execution_count": null,
      "outputs": []
    }
  ]
}